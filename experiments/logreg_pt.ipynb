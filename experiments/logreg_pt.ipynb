{
 "cells": [
  {
   "cell_type": "markdown",
   "id": "0da858cc",
   "metadata": {},
   "source": [
    "# Demo : plaintext full method tests"
   ]
  },
  {
   "cell_type": "code",
   "execution_count": 226,
   "id": "51f6570f",
   "metadata": {},
   "outputs": [],
   "source": [
    "import numpy as np\n",
    "import matplotlib.pyplot as plt\n",
    "\n",
    "import sys\n",
    "import os\n",
    "sys.path.append(os.path.abspath('..'))\n",
    "from src.config import setup_logging\n",
    "logger = setup_logging(\"DEBUG\")\n",
    "\n",
    "from src.data.data_utils import load_data, num_to_data_path, train_test_split, stack_and_scale\n",
    "from src.data.preprocessing import bin_to_pm1, add_bias, init_wv, pad_to_pow2_cols, pad_to_pow2_rows\n",
    "from src.data.scalers import MaxAbsScaler, MinMaxScaler, StandardScaler\n",
    "\n",
    "from src.sigmoid import get_sigmoid_approx\n",
    "from src.nag_momentum import NAGUpdater\n",
    "\n",
    "from src.models.logreg_pt import LogisticRegressionPt\n",
    "from src.metrics import print_classification_metrics, calculate_acc_auc_idash_style, beta_to_loss_history, plot_loss_evolution, plot_proba_distrib\n"
   ]
  },
  {
   "cell_type": "code",
   "execution_count": 227,
   "id": "08ca9f50",
   "metadata": {},
   "outputs": [
    {
     "name": "stderr",
     "output_type": "stream",
     "text": [
      "DEBUG - Getting sigmoid approximation: method=sigmoid, degree=0, encrypted=False\n",
      "DEBUG - Getting sigmoid approximation: method=minus_sigmoid, degree=0, encrypted=False\n",
      "DEBUG - Getting sigmoid approximation: method=least_squares, degree=5, encrypted=False\n"
     ]
    }
   ],
   "source": [
    "# Parameters\n",
    "dataset_num = 6\n",
    "\n",
    "n_epoch = 7\n",
    "gamma_up = 10\n",
    "gamma_down = -1\n",
    "\n",
    "use_nag = True\n",
    "scaler = MaxAbsScaler()     # MaxAbsScaler(), MinMaxScaler(), StandardScaler()\n",
    "beta_init_method = \"mean-idash\"   # mean, zero, random\n",
    "nag_smooth_method = NAGUpdater('idash')\n",
    "\n",
    "degree = 5  # 3, 5, 7\n",
    "true_sigmoid = get_sigmoid_approx()\n",
    "minus_sigmoid = get_sigmoid_approx(\"minus_sigmoid\")\n",
    "sigmoid = get_sigmoid_approx(\"least_squares\", degree=degree)"
   ]
  },
  {
   "cell_type": "markdown",
   "id": "cd4fceaf",
   "metadata": {},
   "source": [
    "## Load data and preprocessing"
   ]
  },
  {
   "cell_type": "code",
   "execution_count": 228,
   "id": "454356e9",
   "metadata": {},
   "outputs": [
    {
     "name": "stderr",
     "output_type": "stream",
     "text": [
      "INFO - Loading data from ../data/uis.txt\n",
      "INFO - Loaded dataset with 575 samples and 8 features\n"
     ]
    }
   ],
   "source": [
    "X, y_bin = load_data(num_to_data_path(dataset_num))"
   ]
  },
  {
   "cell_type": "code",
   "execution_count": 229,
   "id": "45071df7",
   "metadata": {},
   "outputs": [
    {
     "name": "stderr",
     "output_type": "stream",
     "text": [
      "INFO - Splitting data into train/test sets\n",
      "DEBUG - Train size: 460, Test size: 115\n",
      "INFO - Adding bias term\n",
      "DEBUG - Added bias term: (460, 8) -> (460, 9)\n",
      "INFO - Adding bias term\n",
      "DEBUG - Added bias term: (115, 8) -> (115, 9)\n",
      "INFO - Stacking and scaling data\n",
      "DEBUG - Scaled rang: [-1.0, 1.0]\n",
      "INFO - Initializing weights for 9 features as: 'mean-idash'\n",
      "DEBUG - Weight stats - Min: 0.0001, Max: 0.0009, Mean: 0.0005\n"
     ]
    }
   ],
   "source": [
    "# iDASH\n",
    "X_train, X_test, y_bin_train, y_bin_test = train_test_split(X, y_bin, test_size=0.2)\n",
    "\n",
    "Z_train_ = bin_to_pm1(y_bin_train)[:, np.newaxis] * add_bias(X_train)\n",
    "Z_test_ = bin_to_pm1(y_bin_test)[:, np.newaxis] * add_bias(X_test)\n",
    "\n",
    "Z_train, Z_test = stack_and_scale(scaler, Z_train_, Z_test_)\n",
    "\n",
    "w, v = init_wv(Z_train, method=beta_init_method)"
   ]
  },
  {
   "cell_type": "code",
   "execution_count": 230,
   "id": "d6e16640",
   "metadata": {},
   "outputs": [],
   "source": [
    "# # iDASH corrected\n",
    "# X_ = add_bias(X)\n",
    "\n",
    "# X_train, X_test, y_bin_train, y_bin_test = train_test_split(X_, y_bin, test_size=0.2)\n",
    "\n",
    "# Z_train = scaler.fit_transform(X_train)\n",
    "# Z_test = scaler.transform(X_test)\n",
    "\n",
    "# Z_train = bin_to_pm1(y_bin_train)[:, np.newaxis] * Z_train\n",
    "\n",
    "# w, v = init_wv(Z_train, method=beta_init_method)"
   ]
  },
  {
   "cell_type": "code",
   "execution_count": 231,
   "id": "73349ca0",
   "metadata": {},
   "outputs": [
    {
     "name": "stderr",
     "output_type": "stream",
     "text": [
      "INFO - Padding columns: 9 -> 16 (next power of 2)\n",
      "INFO - Padding rows: 460 -> 512 (next power of 2)\n",
      "INFO - Padding columns: 9 -> 16 (next power of 2)\n",
      "INFO - Padding columns: 9 -> 16 (next power of 2)\n",
      "INFO - Padding columns: 9 -> 16 (next power of 2)\n"
     ]
    }
   ],
   "source": [
    "# Encode\n",
    "Z_train_padded = pad_to_pow2_rows(pad_to_pow2_cols(Z_train))\n",
    "Z_test_padded = pad_to_pow2_cols(Z_test)\n",
    "# y_train = pad_to_pow2_rows(y_train[:, np.newaxis])[:, 0]\n",
    "\n",
    "n, f_plus_1 = Z_train_padded.shape\n",
    "f = f_plus_1 - 1\n",
    "Z_dims = (n, f)\n",
    "\n",
    "w_padded = pad_to_pow2_cols(w.reshape(1, -1))\n",
    "w_padded = np.tile(w_padded, (Z_dims[0], 1))\n",
    "v_padded = pad_to_pow2_cols(v.reshape(1, -1))\n",
    "v_padded = np.tile(v_padded, (Z_dims[0], 1))"
   ]
  },
  {
   "cell_type": "markdown",
   "id": "d6f10840",
   "metadata": {},
   "source": [
    "## Logistic regression"
   ]
  },
  {
   "cell_type": "code",
   "execution_count": 232,
   "id": "b15b54aa",
   "metadata": {},
   "outputs": [
    {
     "name": "stderr",
     "output_type": "stream",
     "text": [
      "INFO - >>> Epoch 1 <<<\n",
      "DEBUG - Learning rate: 5.0000 - Smoothing parameter: 0.0\n",
      "DEBUG - Computing inner product\n",
      "DEBUG - Mask created: length 512\n",
      "INFO - Inner product computed.\n",
      "DEBUG - lsq input: [-0.0037, 0.0037]\n",
      "DEBUG - lsq approx: [0.4993, 0.5007]\n",
      "DEBUG - Computing aggregate gradient\n",
      "INFO - Aggregate gradient computed.\n",
      "INFO - >>> Epoch 2 <<<\n",
      "DEBUG - Learning rate: 3.3333 - Smoothing parameter: -0.28175352512532087\n",
      "DEBUG - Computing inner product\n",
      "DEBUG - Mask created: length 512\n",
      "INFO - Inner product computed.\n",
      "DEBUG - lsq input: [-4.2401, 4.2807]\n",
      "DEBUG - lsq approx: [-0.0177, 1.0173]\n",
      "DEBUG - Computing aggregate gradient\n",
      "INFO - Aggregate gradient computed.\n",
      "INFO - >>> Epoch 3 <<<\n",
      "DEBUG - Learning rate: 2.5000 - Smoothing parameter: -0.434042782780302\n",
      "DEBUG - Computing inner product\n",
      "DEBUG - Mask created: length 512\n",
      "INFO - Inner product computed.\n",
      "DEBUG - lsq input: [-0.9252, 0.9432]\n",
      "DEBUG - lsq approx: [0.3234, 0.6734]\n",
      "DEBUG - Computing aggregate gradient\n",
      "INFO - Aggregate gradient computed.\n",
      "INFO - >>> Epoch 4 <<<\n",
      "DEBUG - Learning rate: 2.0000 - Smoothing parameter: -0.5310638054044795\n",
      "DEBUG - Computing inner product\n",
      "DEBUG - Mask created: length 512\n",
      "INFO - Inner product computed.\n",
      "DEBUG - lsq input: [-2.0846, 2.1081]\n",
      "DEBUG - lsq approx: [0.1380, 0.8588]\n",
      "DEBUG - Computing aggregate gradient\n",
      "INFO - Aggregate gradient computed.\n",
      "INFO - >>> Epoch 5 <<<\n",
      "DEBUG - Learning rate: 1.6667 - Smoothing parameter: -0.5987785940560388\n",
      "DEBUG - Computing inner product\n",
      "DEBUG - Mask created: length 512\n",
      "INFO - Inner product computed.\n",
      "DEBUG - lsq input: [-1.7807, 1.8169]\n",
      "DEBUG - lsq approx: [0.1792, 0.8154]\n",
      "DEBUG - Computing aggregate gradient\n",
      "INFO - Aggregate gradient computed.\n",
      "INFO - >>> Epoch 6 <<<\n",
      "DEBUG - Learning rate: 1.4286 - Smoothing parameter: -0.6489233261224006\n",
      "DEBUG - Computing inner product\n",
      "DEBUG - Mask created: length 512\n",
      "INFO - Inner product computed.\n",
      "DEBUG - lsq input: [-1.8033, 1.8566]\n",
      "DEBUG - lsq approx: [0.1733, 0.8188]\n",
      "DEBUG - Computing aggregate gradient\n",
      "INFO - Aggregate gradient computed.\n",
      "INFO - >>> Epoch 7 <<<\n",
      "DEBUG - Learning rate: 1.2500 - Smoothing parameter: -0.6876458540105597\n",
      "DEBUG - Computing inner product\n",
      "DEBUG - Mask created: length 512\n",
      "INFO - Inner product computed.\n",
      "DEBUG - lsq input: [-1.8413, 1.9122]\n",
      "DEBUG - lsq approx: [0.1653, 0.8244]\n",
      "DEBUG - Computing aggregate gradient\n",
      "INFO - Aggregate gradient computed.\n"
     ]
    }
   ],
   "source": [
    "\n",
    "model_no_nag = LogisticRegressionPt(\n",
    "    sigmoid=sigmoid,\n",
    "    use_NAG=use_nag,\n",
    "    nag_momentum_update=nag_smooth_method\n",
    ")\n",
    "model_no_nag.fit(\n",
    "    Z_train_padded, Z_dims,\n",
    "    w_padded,\n",
    "    n_epoch=n_epoch,\n",
    "    gamma_up=gamma_up,\n",
    "    gamma_down=gamma_down,\n",
    "    pt_v=v_padded\n",
    ")"
   ]
  },
  {
   "cell_type": "markdown",
   "id": "76c2923f",
   "metadata": {},
   "source": [
    "## Analysis"
   ]
  },
  {
   "cell_type": "markdown",
   "id": "134717f8",
   "metadata": {},
   "source": [
    "### Train"
   ]
  },
  {
   "cell_type": "code",
   "execution_count": 233,
   "id": "d5664584",
   "metadata": {},
   "outputs": [
    {
     "name": "stderr",
     "output_type": "stream",
     "text": [
      "INFO - Adding bias term\n",
      "DEBUG - Added bias term: (460, 8) -> (460, 9)\n"
     ]
    }
   ],
   "source": [
    "# Decode\n",
    "original_samples, original_features = add_bias(X_train).shape\n",
    "beta_history_depadded = np.array([beta[0][:original_features] for beta in model_no_nag.beta_history])"
   ]
  },
  {
   "cell_type": "code",
   "execution_count": 234,
   "id": "629e8d73",
   "metadata": {},
   "outputs": [
    {
     "name": "stderr",
     "output_type": "stream",
     "text": [
      "DEBUG - lsq input: [-0.0037, 0.0037]\n",
      "DEBUG - lsq approx: [0.4993, 0.5007]\n",
      "DEBUG - lsq input: [-4.2401, 4.2807]\n",
      "DEBUG - lsq approx: [-0.0177, 1.0173]\n",
      "DEBUG - lsq input: [-1.6250, 1.6425]\n",
      "DEBUG - lsq approx: [0.2057, 0.7916]\n",
      "DEBUG - lsq input: [-1.9455, 1.9671]\n",
      "DEBUG - lsq approx: [0.1574, 0.8395]\n",
      "DEBUG - lsq input: [-1.8378, 1.8651]\n",
      "DEBUG - lsq approx: [0.1721, 0.8239]\n",
      "DEBUG - lsq input: [-1.8162, 1.8598]\n",
      "DEBUG - lsq approx: [0.1729, 0.8207]\n",
      "DEBUG - lsq input: [-1.8314, 1.8916]\n",
      "DEBUG - lsq approx: [0.1682, 0.8230]\n",
      "DEBUG - lsq input: [-1.8527, 1.9300]\n",
      "DEBUG - lsq approx: [0.1627, 0.8261]\n"
     ]
    },
    {
     "data": {
      "image/png": "[encoded data removed]",
      "text/plain": [
       "<Figure size 1000x600 with 1 Axes>"
      ]
     },
     "metadata": {},
     "output_type": "display_data"
    }
   ],
   "source": [
    "beta_history = np.concatenate([[w], beta_history_depadded])\n",
    "loss_history = beta_to_loss_history(beta_history, Z_train, y_bin_train, sigmoid)\n",
    "plot_loss_evolution(loss_history)"
   ]
  },
  {
   "cell_type": "markdown",
   "id": "51aa919c",
   "metadata": {},
   "source": [
    "### Test"
   ]
  },
  {
   "cell_type": "code",
   "execution_count": 235,
   "id": "df08a048",
   "metadata": {},
   "outputs": [
    {
     "name": "stderr",
     "output_type": "stream",
     "text": [
      "DEBUG - lsq input: [-1.8100, 1.8937]\n",
      "DEBUG - lsq approx: [0.1679, 0.8198]\n"
     ]
    },
    {
     "name": "stdout",
     "output_type": "stream",
     "text": [
      "\n",
      "ACC: 1.0000\n",
      "AUC: 1.0000\n",
      "              precision    recall  f1-score   support\n",
      "\n",
      "         0.0       1.00      1.00      1.00        28\n",
      "         1.0       1.00      1.00      1.00        87\n",
      "\n",
      "    accuracy                           1.00       115\n",
      "   macro avg       1.00      1.00      1.00       115\n",
      "weighted avg       1.00      1.00      1.00       115\n",
      "\n",
      "[[28  0]\n",
      " [ 0 87]]\n",
      "\n",
      "MSE: 0.0000\n",
      "NMSE: 0.0000\n",
      "\n"
     ]
    },
    {
     "data": {
      "text/plain": [
       "(np.float64(1.0), 1.0)"
      ]
     },
     "execution_count": 235,
     "metadata": {},
     "output_type": "execute_result"
    }
   ],
   "source": [
    "w_trained = model_no_nag.pt_beta[0][:original_features]\n",
    "proba = model_no_nag.predict_proba(Z_test, w_trained, sigmoid=sigmoid)\n",
    "print_classification_metrics(\n",
    "    y_bin_test, proba\n",
    ")"
   ]
  },
  {
   "cell_type": "code",
   "execution_count": 236,
   "id": "cf9eaa88",
   "metadata": {},
   "outputs": [
    {
     "data": {
      "image/png": "[encoded data removed]",
      "text/plain": [
       "<Figure size 1200x500 with 1 Axes>"
      ]
     },
     "metadata": {},
     "output_type": "display_data"
    }
   ],
   "source": [
    "plot_proba_distrib(proba)"
   ]
  },
  {
   "cell_type": "code",
   "execution_count": 237,
   "id": "6bbc100f",
   "metadata": {},
   "outputs": [
    {
     "name": "stdout",
     "output_type": "stream",
     "text": [
      "ACC: 75.6522 %.\n",
      "AUC: 0.6925\n"
     ]
    },
    {
     "data": {
      "text/plain": [
       "(75.65217391304347, 0.6925287356321839)"
      ]
     },
     "execution_count": 237,
     "metadata": {},
     "output_type": "execute_result"
    }
   ],
   "source": [
    "calculate_acc_auc_idash_style(Z_test, w_trained)"
   ]
  }
 ],
 "metadata": {
  "kernelspec": {
   "display_name": ".venv (3.12.3)",
   "language": "python",
   "name": "python3"
  },
  "language_info": {
   "codemirror_mode": {
    "name": "ipython",
    "version": 3
   },
   "file_extension": ".py",
   "mimetype": "text/x-python",
   "name": "python",
   "nbconvert_exporter": "python",
   "pygments_lexer": "ipython3",
   "version": "3.12.3"
  }
 },
 "nbformat": 4,
 "nbformat_minor": 5
}
