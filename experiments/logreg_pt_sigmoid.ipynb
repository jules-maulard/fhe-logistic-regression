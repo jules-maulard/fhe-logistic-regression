{
 "cells": [
  {
   "cell_type": "markdown",
   "id": "0da858cc",
   "metadata": {},
   "source": [
    "# Demo : plaintext sigmoid tests"
   ]
  },
  {
   "cell_type": "code",
   "execution_count": 11,
   "id": "51f6570f",
   "metadata": {},
   "outputs": [],
   "source": [
    "import numpy as np\n",
    "import matplotlib.pyplot as plt\n",
    "\n",
    "import sys\n",
    "import os\n",
    "sys.path.append(os.path.abspath('..'))\n",
    "from src.config import setup_logging\n",
    "logger = setup_logging(\"DEBUG\")\n",
    "\n",
    "from src.data.data_utils import load_data, num_to_data_path, train_test_split, stack_and_scale\n",
    "from src.data.preprocessing import bin_to_pm1, add_bias, init_wv\n",
    "from src.data.scalers import MaxAbsScaler, MinMaxScaler, StandardScaler\n",
    "\n",
    "from src.sigmoid import get_sigmoid_approx\n",
    "from src.nag_momentum import NAGUpdater\n",
    "\n",
    "from src.models.logreg_pt_sigmoid import LogisticRegressionIDASH\n",
    "from src.metrics import print_classification_metrics, calculate_acc_auc_idash_style, beta_to_loss_history, plot_loss_evolution, plot_proba_distrib\n"
   ]
  },
  {
   "cell_type": "code",
   "execution_count": 12,
   "id": "08ca9f50",
   "metadata": {},
   "outputs": [
    {
     "name": "stderr",
     "output_type": "stream",
     "text": [
      "DEBUG - Getting sigmoid approximation: method=sigmoid, degree=0, encrypted=False\n",
      "DEBUG - Getting sigmoid approximation: method=minus_sigmoid, degree=0, encrypted=False\n",
      "DEBUG - Getting sigmoid approximation: method=least_squares, degree=5, encrypted=False\n"
     ]
    }
   ],
   "source": [
    "# Parameters\n",
    "dataset_num = 6\n",
    "\n",
    "n_epoch = 7\n",
    "gamma_up = 10\n",
    "gamma_down = -1\n",
    "\n",
    "use_nag = True\n",
    "scaler = MaxAbsScaler()     # MaxAbsScaler(), MinMaxScaler(), StandardScaler()\n",
    "beta_init_method = \"mean-idash\"   # mean, zero, random\n",
    "nag_smooth_method = NAGUpdater('idash')\n",
    "\n",
    "degree = 5  # 3, 5, 7\n",
    "true_sigmoid = get_sigmoid_approx()\n",
    "minus_sigmoid = get_sigmoid_approx(\"minus_sigmoid\")\n",
    "sigmoid = get_sigmoid_approx(\"least_squares\", degree=degree)"
   ]
  },
  {
   "cell_type": "markdown",
   "id": "cd4fceaf",
   "metadata": {},
   "source": [
    "## Load data and preprocessing"
   ]
  },
  {
   "cell_type": "code",
   "execution_count": 13,
   "id": "454356e9",
   "metadata": {},
   "outputs": [
    {
     "name": "stderr",
     "output_type": "stream",
     "text": [
      "INFO - Loading data from ../data/uis.txt\n",
      "INFO - Loaded dataset with 575 samples and 8 features\n"
     ]
    }
   ],
   "source": [
    "X, y_bin = load_data(num_to_data_path(dataset_num))"
   ]
  },
  {
   "cell_type": "code",
   "execution_count": 14,
   "id": "45071df7",
   "metadata": {},
   "outputs": [
    {
     "name": "stderr",
     "output_type": "stream",
     "text": [
      "INFO - Splitting data into train/test sets\n",
      "DEBUG - Train size: 460, Test size: 115\n",
      "INFO - Adding bias term\n",
      "DEBUG - Added bias term: (460, 8) -> (460, 9)\n",
      "INFO - Adding bias term\n",
      "DEBUG - Added bias term: (115, 8) -> (115, 9)\n",
      "INFO - Stacking and scaling data\n",
      "DEBUG - Scaled rang: [-1.0, 1.0]\n",
      "INFO - Initializing weights for 9 features as: 'mean-idash'\n",
      "DEBUG - Weight stats - Min: 0.0001, Max: 0.0009, Mean: 0.0005\n"
     ]
    }
   ],
   "source": [
    "# iDASH\n",
    "X_train, X_test, y_bin_train, y_bin_test = train_test_split(X, y_bin, test_size=0.2)\n",
    "\n",
    "Z_train_ = bin_to_pm1(y_bin_train)[:, np.newaxis] * add_bias(X_train)\n",
    "Z_test_ = bin_to_pm1(y_bin_test)[:, np.newaxis] * add_bias(X_test)\n",
    "\n",
    "Z_train, Z_test = stack_and_scale(scaler, Z_train_, Z_test_)\n",
    "\n",
    "w, v = init_wv(Z_train, method=beta_init_method)"
   ]
  },
  {
   "cell_type": "code",
   "execution_count": 15,
   "id": "d6e16640",
   "metadata": {},
   "outputs": [],
   "source": [
    "# # iDASH corrected\n",
    "# X_ = add_bias(X)\n",
    "\n",
    "# X_train, X_test, y_bin_train, y_bin_test = train_test_split(X_, y_bin, test_size=0.2)\n",
    "\n",
    "# Z_train = scaler.fit_transform(X_train)\n",
    "# Z_test = scaler.transform(X_test)\n",
    "\n",
    "# Z_train = bin_to_pm1(y_bin_train)[:, np.newaxis] * Z_train\n",
    "\n",
    "# w, v = init_wv(Z_train, method=beta_init_method)"
   ]
  },
  {
   "cell_type": "markdown",
   "id": "d6f10840",
   "metadata": {},
   "source": [
    "## Logistic regression"
   ]
  },
  {
   "cell_type": "code",
   "execution_count": 16,
   "id": "b15b54aa",
   "metadata": {},
   "outputs": [
    {
     "name": "stderr",
     "output_type": "stream",
     "text": [
      "INFO - >>> Epoch 2 <<<\n",
      "DEBUG - Learning rate: 5.0000 - Smoothing parameter: 0.0\n",
      "DEBUG - lsq input: [-0.0036, 0.0036]\n",
      "DEBUG - lsq approx: [0.4993, 0.5007]\n",
      "INFO - >>> Epoch 3 <<<\n",
      "DEBUG - Learning rate: 3.3333 - Smoothing parameter: -0.28175352512532087\n",
      "DEBUG - lsq input: [-4.5900, 4.6642]\n",
      "DEBUG - lsq approx: [-0.0183, 1.0183]\n",
      "INFO - >>> Epoch 4 <<<\n",
      "DEBUG - Learning rate: 2.5000 - Smoothing parameter: -0.434042782780302\n",
      "DEBUG - lsq input: [-0.8822, 0.9000]\n",
      "DEBUG - lsq approx: [0.3312, 0.6656]\n",
      "INFO - >>> Epoch 5 <<<\n",
      "DEBUG - Learning rate: 2.0000 - Smoothing parameter: -0.5310638054044795\n",
      "DEBUG - lsq input: [-2.4026, 2.4388]\n",
      "DEBUG - lsq approx: [0.0965, 0.8992]\n",
      "INFO - >>> Epoch 6 <<<\n",
      "DEBUG - Learning rate: 1.6667 - Smoothing parameter: -0.5987785940560388\n",
      "DEBUG - lsq input: [-1.8454, 1.8802]\n",
      "DEBUG - lsq approx: [0.1699, 0.8250]\n",
      "INFO - >>> Epoch 7 <<<\n",
      "DEBUG - Learning rate: 1.4286 - Smoothing parameter: -0.6489233261224006\n",
      "DEBUG - lsq input: [-1.9270, 1.9663]\n",
      "DEBUG - lsq approx: [0.1576, 0.8369]\n",
      "INFO - >>> Epoch 8 <<<\n",
      "DEBUG - Learning rate: 1.2500 - Smoothing parameter: -0.6876458540105597\n",
      "DEBUG - lsq input: [-1.9899, 2.0437]\n",
      "DEBUG - lsq approx: [0.1468, 0.8458]\n"
     ]
    }
   ],
   "source": [
    "\n",
    "model_no_nag = LogisticRegressionIDASH(\n",
    "    sigmoid=sigmoid,\n",
    "    use_NAG=use_nag,\n",
    "    nag_momentum_update=nag_smooth_method\n",
    ")\n",
    "model_no_nag.fit(\n",
    "    Z_train, Z_train.shape,\n",
    "    w,\n",
    "    n_epoch=n_epoch,\n",
    "    gamma_up=gamma_up,\n",
    "    gamma_down=gamma_down,\n",
    "    pt_v=v\n",
    ")"
   ]
  },
  {
   "cell_type": "markdown",
   "id": "76c2923f",
   "metadata": {},
   "source": [
    "## Analysis"
   ]
  },
  {
   "cell_type": "markdown",
   "id": "134717f8",
   "metadata": {},
   "source": [
    "### Train"
   ]
  },
  {
   "cell_type": "code",
   "execution_count": 17,
   "id": "629e8d73",
   "metadata": {},
   "outputs": [
    {
     "name": "stderr",
     "output_type": "stream",
     "text": [
      "DEBUG - lsq input: [-0.0036, 0.0036]\n",
      "DEBUG - lsq approx: [0.4993, 0.5007]\n",
      "DEBUG - lsq input: [-4.5900, 4.6642]\n",
      "DEBUG - lsq approx: [-0.0183, 1.0183]\n",
      "DEBUG - lsq input: [-1.6835, 1.7080]\n",
      "DEBUG - lsq approx: [0.1955, 0.8007]\n",
      "DEBUG - lsq input: [-2.1850, 2.2176]\n",
      "DEBUG - lsq approx: [0.1237, 0.8721]\n",
      "DEBUG - lsq input: [-1.9632, 1.9972]\n",
      "DEBUG - lsq approx: [0.1532, 0.8420]\n",
      "DEBUG - lsq input: [-1.9406, 1.9779]\n",
      "DEBUG - lsq approx: [0.1559, 0.8388]\n",
      "DEBUG - lsq input: [-1.9705, 2.0130]\n",
      "DEBUG - lsq approx: [0.1510, 0.8430]\n",
      "DEBUG - lsq input: [-2.0025, 2.0634]\n",
      "DEBUG - lsq approx: [0.1441, 0.8475]\n"
     ]
    },
    {
     "data": {
      "image/png": "[encoded data removed]",
      "text/plain": [
       "<Figure size 1000x600 with 1 Axes>"
      ]
     },
     "metadata": {},
     "output_type": "display_data"
    }
   ],
   "source": [
    "beta_history = np.concatenate([[w], model_no_nag.beta_history])\n",
    "loss_history = beta_to_loss_history(beta_history, Z_train, y_bin_train, sigmoid)\n",
    "plot_loss_evolution(loss_history)"
   ]
  },
  {
   "cell_type": "markdown",
   "id": "51aa919c",
   "metadata": {},
   "source": [
    "### Test"
   ]
  },
  {
   "cell_type": "code",
   "execution_count": 18,
   "id": "df08a048",
   "metadata": {},
   "outputs": [
    {
     "name": "stderr",
     "output_type": "stream",
     "text": [
      "DEBUG - lsq input: [-1.9948, 2.0333]\n",
      "DEBUG - lsq approx: [0.1482, 0.8464]\n"
     ]
    },
    {
     "name": "stdout",
     "output_type": "stream",
     "text": [
      "\n",
      "ACC: 1.0000\n",
      "AUC: 1.0000\n",
      "              precision    recall  f1-score   support\n",
      "\n",
      "         0.0       1.00      1.00      1.00        27\n",
      "         1.0       1.00      1.00      1.00        88\n",
      "\n",
      "    accuracy                           1.00       115\n",
      "   macro avg       1.00      1.00      1.00       115\n",
      "weighted avg       1.00      1.00      1.00       115\n",
      "\n",
      "[[27  0]\n",
      " [ 0 88]]\n",
      "\n",
      "MSE: 0.0000\n",
      "NMSE: 0.0000\n",
      "\n"
     ]
    }
   ],
   "source": [
    "w_trained = model_no_nag.pt_beta\n",
    "proba = model_no_nag.predict_proba(Z_test, w_trained, sigmoid=sigmoid)\n",
    "print_classification_metrics(\n",
    "    y_bin_test, proba\n",
    ")"
   ]
  },
  {
   "cell_type": "code",
   "execution_count": 19,
   "id": "cf9eaa88",
   "metadata": {},
   "outputs": [
    {
     "data": {
      "image/png": "[encoded data removed]",
      "text/plain": [
       "<Figure size 1200x500 with 1 Axes>"
      ]
     },
     "metadata": {},
     "output_type": "display_data"
    }
   ],
   "source": [
    "plot_proba_distrib(proba)"
   ]
  },
  {
   "cell_type": "code",
   "execution_count": 20,
   "id": "6bbc100f",
   "metadata": {},
   "outputs": [
    {
     "name": "stdout",
     "output_type": "stream",
     "text": [
      "ACC: 76.5217 %.\n",
      "AUC: 0.6267\n"
     ]
    },
    {
     "data": {
      "text/plain": [
       "(76.52173913043478, 0.6266835016835017)"
      ]
     },
     "execution_count": 20,
     "metadata": {},
     "output_type": "execute_result"
    }
   ],
   "source": [
    "calculate_acc_auc_idash_style(Z_test, w_trained)"
   ]
  }
 ],
 "metadata": {
  "kernelspec": {
   "display_name": ".venv (3.12.3)",
   "language": "python",
   "name": "python3"
  },
  "language_info": {
   "codemirror_mode": {
    "name": "ipython",
    "version": 3
   },
   "file_extension": ".py",
   "mimetype": "text/x-python",
   "name": "python",
   "nbconvert_exporter": "python",
   "pygments_lexer": "ipython3",
   "version": "3.12.3"
  }
 },
 "nbformat": 4,
 "nbformat_minor": 5
}
