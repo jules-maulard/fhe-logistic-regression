{
 "cells": [
  {
   "cell_type": "markdown",
   "id": "0da858cc",
   "metadata": {},
   "source": [
    "# Demo : full method tests"
   ]
  },
  {
   "cell_type": "code",
   "execution_count": 1,
   "id": "51f6570f",
   "metadata": {},
   "outputs": [],
   "source": [
    "import numpy as np\n",
    "import matplotlib.pyplot as plt\n",
    "\n",
    "import sys\n",
    "import os\n",
    "sys.path.append(os.path.abspath('..'))\n",
    "from src.config import setup_logging\n",
    "logger = setup_logging(\"DEBUG\")\n",
    "\n",
    "from src.data.data_utils import load_data, num_to_data_path, train_test_split, stack_and_scale\n",
    "from src.data.preprocessing import bin_to_pm1, add_bias, init_wv, pad_to_pow2_cols, pad_to_pow2_rows\n",
    "from src.data.scalers import MaxAbsScaler, MinMaxScaler, StandardScaler\n",
    "\n",
    "from src.sigmoid import get_sigmoid_approx\n",
    "from src.nag_momentum import NAGUpdater\n",
    "\n",
    "from src.models.logreg_ct import LogisticRegression\n",
    "from src.metrics import (\n",
    "    print_classification_metrics, \n",
    "    calculate_acc_auc_idash_style, \n",
    "    beta_to_loss_history, \n",
    "    plot_loss_evolution, \n",
    "    plot_proba_distrib\n",
    ")\n",
    "\n",
    "from src.encryption import (\n",
    "    init_ckks, \n",
    "    encode_encrypt_beta, \n",
    "    encode_encrypt_features,\n",
    "    decrypt_decode_matrix\n",
    ")"
   ]
  },
  {
   "cell_type": "code",
   "execution_count": 2,
   "id": "08ca9f50",
   "metadata": {},
   "outputs": [
    {
     "name": "stderr",
     "output_type": "stream",
     "text": [
      "DEBUG - Getting sigmoid approximation: method=sigmoid, degree=0, encrypted=False\n",
      "DEBUG - Getting sigmoid approximation: method=minus_sigmoid, degree=0, encrypted=False\n",
      "DEBUG - Getting sigmoid approximation: method=least_squares, degree=5, encrypted=True\n"
     ]
    }
   ],
   "source": [
    "# Parameters\n",
    "dataset_num = 3\n",
    "\n",
    "n_epoch = 7\n",
    "gamma_up = 10\n",
    "gamma_down = -1\n",
    "\n",
    "use_nag = True\n",
    "scaler = MaxAbsScaler()     # MaxAbsScaler(), MinMaxScaler(), StandardScaler()\n",
    "beta_init_method = \"mean-idash\"   # mean, zero, random\n",
    "nag_smooth_method = NAGUpdater('idash')\n",
    "\n",
    "degree = 5  # 3, 5, 7\n",
    "true_sigmoid = get_sigmoid_approx()\n",
    "minus_sigmoid = get_sigmoid_approx(\"minus_sigmoid\")\n",
    "sigmoid = get_sigmoid_approx(\"least_squares\", degree=degree, encrypted=True)\n",
    "\n",
    "mult_depth = int(n_epoch * (7 + ((degree-3)/2))) + 5"
   ]
  },
  {
   "cell_type": "markdown",
   "id": "cd4fceaf",
   "metadata": {},
   "source": [
    "## Load data and preprocessing"
   ]
  },
  {
   "cell_type": "code",
   "execution_count": 3,
   "id": "454356e9",
   "metadata": {},
   "outputs": [
    {
     "name": "stderr",
     "output_type": "stream",
     "text": [
      "INFO - Loading data from ../data/lbw.txt\n",
      "INFO - Loaded dataset with 189 samples and 9 features\n"
     ]
    }
   ],
   "source": [
    "X, y_bin = load_data(num_to_data_path(dataset_num))"
   ]
  },
  {
   "cell_type": "code",
   "execution_count": 4,
   "id": "45071df7",
   "metadata": {},
   "outputs": [
    {
     "name": "stderr",
     "output_type": "stream",
     "text": [
      "INFO - Splitting data into train/test sets\n",
      "DEBUG - Train size: 151, Test size: 38\n",
      "INFO - Adding bias term\n",
      "DEBUG - Added bias term: (151, 9) -> (151, 10)\n",
      "INFO - Adding bias term\n",
      "DEBUG - Added bias term: (38, 9) -> (38, 10)\n",
      "INFO - Stacking and scaling data\n",
      "DEBUG - Scaled rang: [-1.0, 1.0]\n",
      "INFO - Initializing weights for 10 features as: 'mean-idash'\n",
      "DEBUG - Weight stats - Min: -0.0001, Max: 0.0015, Mean: 0.0005\n"
     ]
    }
   ],
   "source": [
    "# iDASH\n",
    "X_train, X_test, y_bin_train, y_bin_test = train_test_split(X, y_bin, test_size=0.2)\n",
    "\n",
    "Z_train_ = bin_to_pm1(y_bin_train)[:, np.newaxis] * add_bias(X_train)\n",
    "Z_test_ = bin_to_pm1(y_bin_test)[:, np.newaxis] * add_bias(X_test)\n",
    "\n",
    "Z_train, Z_test = stack_and_scale(scaler, Z_train_, Z_test_)\n",
    "\n",
    "w, v = init_wv(Z_train, method=beta_init_method)"
   ]
  },
  {
   "cell_type": "code",
   "execution_count": 5,
   "id": "d6e16640",
   "metadata": {},
   "outputs": [],
   "source": [
    "# # iDASH corrected\n",
    "# X_ = add_bias(X)\n",
    "\n",
    "# X_train, X_test, y_bin_train, y_bin_test = train_test_split(X_, y_bin, test_size=0.2)\n",
    "\n",
    "# Z_train = scaler.fit_transform(X_train)\n",
    "# Z_test = scaler.transform(X_test)\n",
    "\n",
    "# Z_train = bin_to_pm1(y_bin_train)[:, np.newaxis] * Z_train\n",
    "\n",
    "# w, v = init_wv(Z_train, method=beta_init_method)"
   ]
  },
  {
   "cell_type": "code",
   "execution_count": null,
   "id": "73349ca0",
   "metadata": {},
   "outputs": [
    {
     "name": "stderr",
     "output_type": "stream",
     "text": [
      "INFO - Padding columns: 10 -> 16 (next power of 2)\n",
      "INFO - Padding rows: 151 -> 256 (next power of 2)\n",
      "INFO - Padding columns: 10 -> 16 (next power of 2)\n",
      "INFO - Padding columns: 10 -> 16 (next power of 2)\n",
      "INFO - Padding columns: 10 -> 16 (next power of 2)\n"
     ]
    },
    {
     "ename": "",
     "evalue": "",
     "output_type": "error",
     "traceback": [
      "\u001b[1;31mThe Kernel crashed while executing code in the current cell or a previous cell. \n",
      "\u001b[1;31mPlease review the code in the cell(s) to identify a possible cause of the failure. \n",
      "\u001b[1;31mClick <a href='https://aka.ms/vscodeJupyterKernelCrash'>here</a> for more info. \n",
      "\u001b[1;31mView Jupyter <a href='command:jupyter.viewOutput'>log</a> for further details."
     ]
    }
   ],
   "source": [
    "# Encode\n",
    "Z_train_padded = pad_to_pow2_rows(pad_to_pow2_cols(Z_train))\n",
    "Z_test_padded = pad_to_pow2_cols(Z_test)\n",
    "# y_train = pad_to_pow2_rows(y_train[:, np.newaxis])[:, 0]\n",
    "\n",
    "n, f_plus_1 = Z_train_padded.shape\n",
    "f = f_plus_1 - 1\n",
    "Z_dims = (n, f)\n",
    "\n",
    "w_padded = pad_to_pow2_cols(w.reshape(1, -1))\n",
    "w_padded = np.tile(w_padded, (Z_dims[0], 1))\n",
    "v_padded = pad_to_pow2_cols(v.reshape(1, -1))\n",
    "v_padded = np.tile(v_padded, (Z_dims[0], 1))"
   ]
  },
  {
   "cell_type": "markdown",
   "id": "98b6f4b7",
   "metadata": {},
   "source": [
    "## Encrypt"
   ]
  },
  {
   "cell_type": "code",
   "execution_count": null,
   "id": "610afe2a",
   "metadata": {},
   "outputs": [
    {
     "name": "stderr",
     "output_type": "stream",
     "text": [
      "DEBUG - Initializing CKKS context\n",
      "DEBUG - Input parameters: n=256, f=15, mult_depth=61\n",
      "DEBUG - CKKS parameters: scheme: CKKSRNS; ptModulus: 0; digitSize: 0; standardDeviation: 3.19; secretKeyDist: UNIFORM_TERNARY; maxRelinSkDeg: 2; ksTech: HYBRID; scalTech: FLEXIBLEAUTOEXT; batchSize: 4096; firstModSize: 60; numLargeDigits: 0; multiplicativeDepth:61; scalingModSize: 30; securityLevel: HEStd_128_classic; ringDim: 0; evalAddCount: 0; keySwitchCount: 0; encryptionTechnique: STANDARD; multiplicationTechnique: HPS; PRENumHops: 0; PREMode: INDCPA; multipartyMode: FIXED_NOISE_MULTIPARTY; executionMode: EXEC_EVALUATION; decryptionNoiseMode: FIXED_NOISE_DECRYPT; noiseEstimate: 0; desiredPrecision: 25; statisticalSecurity: 30; numAdversarialQueries: 1; thresholdNumOfParties: 1; interactiveBootCompressionLevel: SLACK; compositeDegree: 1; registerWordSize: 64; ckksDataType: REAL\n"
     ]
    }
   ],
   "source": [
    "# Initialize CKKS context\n",
    "cc, key_pair, params = init_ckks(n, f, mult_depth=mult_depth)\n",
    "public_key = key_pair.publicKey\n",
    "secret_key = key_pair.secretKey"
   ]
  },
  {
   "cell_type": "code",
   "execution_count": null,
   "id": "f631f64a",
   "metadata": {},
   "outputs": [
    {
     "name": "stderr",
     "output_type": "stream",
     "text": [
      "DEBUG - Beta shape: (4096,), n: 256\n",
      "INFO - Beta encrypted.\n",
      "DEBUG - Beta shape: (4096,), n: 256\n",
      "INFO - Beta encrypted.\n",
      "DEBUG - Input shape: (256, 16)\n",
      "DEBUG - Encrypted vector length: 4096\n",
      "INFO - Features encrypted.\n"
     ]
    }
   ],
   "source": [
    "# Encrypt features and beta\n",
    "ct_w = encode_encrypt_beta(w_padded.flatten(), cc, public_key, n)\n",
    "ct_v = encode_encrypt_beta(v_padded.flatten(), cc, public_key, n)\n",
    "ct_Z_train, vec_length = encode_encrypt_features(Z_train_padded, cc, public_key)"
   ]
  },
  {
   "cell_type": "markdown",
   "id": "d6f10840",
   "metadata": {},
   "source": [
    "## Logistic regression"
   ]
  },
  {
   "cell_type": "code",
   "execution_count": null,
   "id": "b15b54aa",
   "metadata": {},
   "outputs": [
    {
     "name": "stderr",
     "output_type": "stream",
     "text": [
      "INFO - >>> Epoch 1 <<<\n",
      "DEBUG - Learning rate: 5.0000 - Smoothing parameter: 0.0\n",
      "DEBUG - Computing inner product\n",
      "DEBUG - Mask created: length 4096\n",
      "INFO - Inner product computed.\n",
      "DEBUG - Computing aggregate gradient\n",
      "INFO - Aggregate gradient computed.\n",
      "DEBUG - Update beta\n",
      "INFO - Beta updated.\n",
      "DEBUG - Update v\n",
      "INFO - v updated.\n",
      "INFO - >>> Epoch 2 <<<\n",
      "DEBUG - Learning rate: 3.3333 - Smoothing parameter: -0.28175352512532087\n",
      "DEBUG - Computing inner product\n",
      "DEBUG - Mask created: length 4096\n",
      "INFO - Inner product computed.\n",
      "DEBUG - Computing aggregate gradient\n",
      "INFO - Aggregate gradient computed.\n",
      "DEBUG - Update beta\n",
      "INFO - Beta updated.\n",
      "DEBUG - Update v\n",
      "INFO - v updated.\n",
      "INFO - >>> Epoch 3 <<<\n",
      "DEBUG - Learning rate: 2.5000 - Smoothing parameter: -0.434042782780302\n",
      "DEBUG - Computing inner product\n",
      "DEBUG - Mask created: length 4096\n",
      "INFO - Inner product computed.\n",
      "DEBUG - Computing aggregate gradient\n",
      "INFO - Aggregate gradient computed.\n",
      "DEBUG - Update beta\n",
      "INFO - Beta updated.\n",
      "DEBUG - Update v\n",
      "INFO - v updated.\n"
     ]
    }
   ],
   "source": [
    "model_no_nag = LogisticRegression(\n",
    "    sigmoid=sigmoid,\n",
    "    cc=cc,\n",
    "    use_NAG=use_nag,\n",
    "    nag_momentum_update=nag_smooth_method\n",
    ")\n",
    "model_no_nag.fit(\n",
    "    ct_Z_train, Z_dims,\n",
    "    ct_w,\n",
    "    n_epoch=n_epoch,\n",
    "    gamma_up=gamma_up,\n",
    "    gamma_down=gamma_down,\n",
    "    ct_v=ct_v\n",
    ")"
   ]
  },
  {
   "cell_type": "markdown",
   "id": "b06ae035",
   "metadata": {},
   "source": [
    "## Decrypt"
   ]
  },
  {
   "cell_type": "code",
   "execution_count": null,
   "id": "894c0532",
   "metadata": {},
   "outputs": [
    {
     "name": "stderr",
     "output_type": "stream",
     "text": [
      "INFO - Adding bias term\n",
      "DEBUG - Added bias term: (151, 9) -> (151, 10)\n",
      "DEBUG - Output shape: (256, 16)\n",
      "INFO - Matrix decrypted.\n",
      "DEBUG - Output shape: (256, 16)\n",
      "INFO - Matrix decrypted.\n",
      "DEBUG - Output shape: (256, 16)\n",
      "INFO - Matrix decrypted.\n",
      "DEBUG - Output shape: (256, 16)\n",
      "INFO - Matrix decrypted.\n"
     ]
    }
   ],
   "source": [
    "original_samples, original_features = add_bias(X_train).shape\n",
    "\n",
    "ct_beta = model_no_nag.ct_beta\n",
    "pt_beta = decrypt_decode_matrix(ct_beta, cc, secret_key, n * (f + 1), (n, f + 1))\n",
    "\n",
    "ct_beta_history = model_no_nag.ct_beta_history\n",
    "pt_beta_history = np.array([decrypt_decode_matrix(ct_beta_i, cc, secret_key, n * (f + 1), (n, f + 1)) for ct_beta_i in ct_beta_history])\n",
    "pt_beta_history_depadded = np.array([beta[0][:original_features] for beta in pt_beta_history])"
   ]
  },
  {
   "cell_type": "markdown",
   "id": "76c2923f",
   "metadata": {},
   "source": [
    "## Analysis"
   ]
  },
  {
   "cell_type": "markdown",
   "id": "134717f8",
   "metadata": {},
   "source": [
    "### Train"
   ]
  },
  {
   "cell_type": "code",
   "execution_count": null,
   "id": "629e8d73",
   "metadata": {},
   "outputs": [
    {
     "name": "stderr",
     "output_type": "stream",
     "text": [
      "DEBUG - minus sigmoid output: [0.4990, 0.5010]\n",
      "DEBUG - minus sigmoid output: [0.4990, 0.5010]\n",
      "DEBUG - minus sigmoid output: [0.4990, 0.5009]\n",
      "DEBUG - minus sigmoid output: [0.4990, 0.5010]\n"
     ]
    },
    {
     "data": {
      "image/png": "[encoded data removed]",
      "text/plain": [
       "<Figure size 1000x600 with 1 Axes>"
      ]
     },
     "metadata": {},
     "output_type": "display_data"
    }
   ],
   "source": [
    "beta_history = np.concatenate([[w], pt_beta_history_depadded])\n",
    "loss_history = beta_to_loss_history(beta_history, Z_train, y_bin_train, minus_sigmoid)\n",
    "plot_loss_evolution(loss_history)"
   ]
  },
  {
   "cell_type": "markdown",
   "id": "51aa919c",
   "metadata": {},
   "source": [
    "### Test"
   ]
  },
  {
   "cell_type": "code",
   "execution_count": null,
   "id": "df08a048",
   "metadata": {},
   "outputs": [
    {
     "name": "stderr",
     "output_type": "stream",
     "text": [
      "DEBUG - minus sigmoid output: [0.4990, 0.5009]\n"
     ]
    },
    {
     "name": "stdout",
     "output_type": "stream",
     "text": [
      "\n",
      "ACC: 1.0000\n",
      "AUC: 1.0000\n",
      "              precision    recall  f1-score   support\n",
      "\n",
      "         0.0       1.00      1.00      1.00        12\n",
      "         1.0       1.00      1.00      1.00        26\n",
      "\n",
      "    accuracy                           1.00        38\n",
      "   macro avg       1.00      1.00      1.00        38\n",
      "weighted avg       1.00      1.00      1.00        38\n",
      "\n",
      "[[12  0]\n",
      " [ 0 26]]\n",
      "\n",
      "MSE: 0.0000\n",
      "NMSE: 0.0000\n",
      "\n"
     ]
    },
    {
     "data": {
      "text/plain": [
       "(np.float64(1.0), 1.0)"
      ]
     },
     "execution_count": 12,
     "metadata": {},
     "output_type": "execute_result"
    }
   ],
   "source": [
    "w_trained = pt_beta[0][:original_features]\n",
    "proba = model_no_nag.predict_proba(Z_test, w_trained, sigmoid=minus_sigmoid)\n",
    "print_classification_metrics(\n",
    "    y_bin_test, proba\n",
    ")"
   ]
  },
  {
   "cell_type": "code",
   "execution_count": null,
   "id": "cf9eaa88",
   "metadata": {},
   "outputs": [
    {
     "data": {
      "image/png": "[encoded data removed]",
      "text/plain": [
       "<Figure size 1200x500 with 1 Axes>"
      ]
     },
     "metadata": {},
     "output_type": "display_data"
    }
   ],
   "source": [
    "plot_proba_distrib(proba)"
   ]
  },
  {
   "cell_type": "code",
   "execution_count": null,
   "id": "6bbc100f",
   "metadata": {},
   "outputs": [
    {
     "name": "stdout",
     "output_type": "stream",
     "text": [
      "ACC: 68.4211 %.\n",
      "AUC: 0.6538\n"
     ]
    },
    {
     "data": {
      "text/plain": [
       "(68.42105263157895, 0.6538461538461539)"
      ]
     },
     "execution_count": 14,
     "metadata": {},
     "output_type": "execute_result"
    }
   ],
   "source": [
    "calculate_acc_auc_idash_style(Z_test, w_trained)"
   ]
  }
 ],
 "metadata": {
  "kernelspec": {
   "display_name": ".venv (3.12.3)",
   "language": "python",
   "name": "python3"
  },
  "language_info": {
   "codemirror_mode": {
    "name": "ipython",
    "version": 3
   },
   "file_extension": ".py",
   "mimetype": "text/x-python",
   "name": "python",
   "nbconvert_exporter": "python",
   "pygments_lexer": "ipython3",
   "version": "3.12.3"
  }
 },
 "nbformat": 4,
 "nbformat_minor": 5
}
